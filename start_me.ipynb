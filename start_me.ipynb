{
 "cells": [
  {
   "cell_type": "code",
   "execution_count": 1,
   "metadata": {
    "collapsed": true
   },
   "outputs": [],
   "source": [
    "import rep"
   ]
  },
  {
   "cell_type": "code",
   "execution_count": 2,
   "metadata": {
    "collapsed": true
   },
   "outputs": [],
   "source": [
    "import numpy\n",
    "import matplotlib"
   ]
  },
  {
   "cell_type": "code",
   "execution_count": 3,
   "metadata": {
    "collapsed": true
   },
   "outputs": [],
   "source": [
    "%matplotlib inline"
   ]
  },
  {
   "cell_type": "code",
   "execution_count": 4,
   "metadata": {
    "collapsed": true
   },
   "outputs": [],
   "source": [
    "import pandas"
   ]
  },
  {
   "cell_type": "code",
   "execution_count": 5,
   "metadata": {
    "collapsed": true
   },
   "outputs": [],
   "source": [
    "df = pandas.read_csv(\"data/public/public_train.csv\")"
   ]
  },
  {
   "cell_type": "code",
   "execution_count": 7,
   "metadata": {
    "collapsed": false
   },
   "outputs": [
    {
     "data": {
      "text/html": [
       "<div>\n",
       "<table border=\"1\" class=\"dataframe\">\n",
       "  <thead>\n",
       "    <tr style=\"text-align: right;\">\n",
       "      <th></th>\n",
       "      <th>switching_parameter</th>\n",
       "      <th>rational_expectation_cost</th>\n",
       "      <th>risk_free_return</th>\n",
       "      <th>weight_past_profits</th>\n",
       "      <th>delta</th>\n",
       "      <th>alpha</th>\n",
       "      <th>bias_1</th>\n",
       "      <th>trend_1</th>\n",
       "      <th>bias_2</th>\n",
       "      <th>trend_2</th>\n",
       "      <th>p-value</th>\n",
       "    </tr>\n",
       "  </thead>\n",
       "  <tbody>\n",
       "    <tr>\n",
       "      <th>count</th>\n",
       "      <td>418673.000000</td>\n",
       "      <td>418673.000000</td>\n",
       "      <td>418673.000000</td>\n",
       "      <td>418673.000000</td>\n",
       "      <td>418673.000000</td>\n",
       "      <td>418673.000000</td>\n",
       "      <td>418673.000000</td>\n",
       "      <td>418673.000000</td>\n",
       "      <td>418673.000000</td>\n",
       "      <td>418673.000000</td>\n",
       "      <td>4.186730e+05</td>\n",
       "    </tr>\n",
       "    <tr>\n",
       "      <th>mean</th>\n",
       "      <td>6.240038</td>\n",
       "      <td>2.854051</td>\n",
       "      <td>1.054760</td>\n",
       "      <td>0.497788</td>\n",
       "      <td>0.521785</td>\n",
       "      <td>54.933996</td>\n",
       "      <td>1.397249</td>\n",
       "      <td>-0.218374</td>\n",
       "      <td>1.267590</td>\n",
       "      <td>0.174591</td>\n",
       "      <td>8.524464e-05</td>\n",
       "    </tr>\n",
       "    <tr>\n",
       "      <th>std</th>\n",
       "      <td>2.193694</td>\n",
       "      <td>1.603728</td>\n",
       "      <td>0.028761</td>\n",
       "      <td>0.290867</td>\n",
       "      <td>0.331718</td>\n",
       "      <td>27.501018</td>\n",
       "      <td>0.436988</td>\n",
       "      <td>0.705993</td>\n",
       "      <td>0.521963</td>\n",
       "      <td>0.443149</td>\n",
       "      <td>1.587429e-03</td>\n",
       "    </tr>\n",
       "    <tr>\n",
       "      <th>min</th>\n",
       "      <td>2.500000</td>\n",
       "      <td>0.000000</td>\n",
       "      <td>1.010000</td>\n",
       "      <td>0.000000</td>\n",
       "      <td>0.000000</td>\n",
       "      <td>1.000000</td>\n",
       "      <td>-1.100000</td>\n",
       "      <td>-2.000000</td>\n",
       "      <td>-0.900000</td>\n",
       "      <td>-2.000000</td>\n",
       "      <td>1.015286e-68</td>\n",
       "    </tr>\n",
       "    <tr>\n",
       "      <th>25%</th>\n",
       "      <td>4.300000</td>\n",
       "      <td>2.000000</td>\n",
       "      <td>1.030000</td>\n",
       "      <td>0.250000</td>\n",
       "      <td>0.210000</td>\n",
       "      <td>32.000000</td>\n",
       "      <td>1.100000</td>\n",
       "      <td>-0.600000</td>\n",
       "      <td>0.900000</td>\n",
       "      <td>-0.100000</td>\n",
       "      <td>1.607044e-11</td>\n",
       "    </tr>\n",
       "    <tr>\n",
       "      <th>50%</th>\n",
       "      <td>6.200000</td>\n",
       "      <td>3.000000</td>\n",
       "      <td>1.050000</td>\n",
       "      <td>0.500000</td>\n",
       "      <td>0.520000</td>\n",
       "      <td>56.000000</td>\n",
       "      <td>1.500000</td>\n",
       "      <td>-0.200000</td>\n",
       "      <td>1.300000</td>\n",
       "      <td>0.100000</td>\n",
       "      <td>1.216523e-09</td>\n",
       "    </tr>\n",
       "    <tr>\n",
       "      <th>75%</th>\n",
       "      <td>8.100000</td>\n",
       "      <td>4.000000</td>\n",
       "      <td>1.080000</td>\n",
       "      <td>0.750000</td>\n",
       "      <td>0.840000</td>\n",
       "      <td>79.000000</td>\n",
       "      <td>1.700000</td>\n",
       "      <td>0.200000</td>\n",
       "      <td>1.700000</td>\n",
       "      <td>0.400000</td>\n",
       "      <td>1.045499e-07</td>\n",
       "    </tr>\n",
       "    <tr>\n",
       "      <th>max</th>\n",
       "      <td>10.000000</td>\n",
       "      <td>5.000000</td>\n",
       "      <td>1.100000</td>\n",
       "      <td>1.000000</td>\n",
       "      <td>1.000000</td>\n",
       "      <td>100.000000</td>\n",
       "      <td>2.000000</td>\n",
       "      <td>2.000000</td>\n",
       "      <td>2.000000</td>\n",
       "      <td>2.000000</td>\n",
       "      <td>3.274180e-01</td>\n",
       "    </tr>\n",
       "  </tbody>\n",
       "</table>\n",
       "</div>"
      ],
      "text/plain": [
       "       switching_parameter  rational_expectation_cost  risk_free_return  \\\n",
       "count        418673.000000              418673.000000     418673.000000   \n",
       "mean              6.240038                   2.854051          1.054760   \n",
       "std               2.193694                   1.603728          0.028761   \n",
       "min               2.500000                   0.000000          1.010000   \n",
       "25%               4.300000                   2.000000          1.030000   \n",
       "50%               6.200000                   3.000000          1.050000   \n",
       "75%               8.100000                   4.000000          1.080000   \n",
       "max              10.000000                   5.000000          1.100000   \n",
       "\n",
       "       weight_past_profits          delta          alpha         bias_1  \\\n",
       "count        418673.000000  418673.000000  418673.000000  418673.000000   \n",
       "mean              0.497788       0.521785      54.933996       1.397249   \n",
       "std               0.290867       0.331718      27.501018       0.436988   \n",
       "min               0.000000       0.000000       1.000000      -1.100000   \n",
       "25%               0.250000       0.210000      32.000000       1.100000   \n",
       "50%               0.500000       0.520000      56.000000       1.500000   \n",
       "75%               0.750000       0.840000      79.000000       1.700000   \n",
       "max               1.000000       1.000000     100.000000       2.000000   \n",
       "\n",
       "             trend_1         bias_2        trend_2       p-value  \n",
       "count  418673.000000  418673.000000  418673.000000  4.186730e+05  \n",
       "mean       -0.218374       1.267590       0.174591  8.524464e-05  \n",
       "std         0.705993       0.521963       0.443149  1.587429e-03  \n",
       "min        -2.000000      -0.900000      -2.000000  1.015286e-68  \n",
       "25%        -0.600000       0.900000      -0.100000  1.607044e-11  \n",
       "50%        -0.200000       1.300000       0.100000  1.216523e-09  \n",
       "75%         0.200000       1.700000       0.400000  1.045499e-07  \n",
       "max         2.000000       2.000000       2.000000  3.274180e-01  "
      ]
     },
     "execution_count": 7,
     "metadata": {},
     "output_type": "execute_result"
    }
   ],
   "source": [
    "df.describe()"
   ]
  },
  {
   "cell_type": "code",
   "execution_count": 9,
   "metadata": {
    "collapsed": false
   },
   "outputs": [
    {
     "data": {
      "text/plain": [
       "(418673, 11)"
      ]
     },
     "execution_count": 9,
     "metadata": {},
     "output_type": "execute_result"
    }
   ],
   "source": [
    "df.shape"
   ]
  },
  {
   "cell_type": "code",
   "execution_count": 10,
   "metadata": {
    "collapsed": true
   },
   "outputs": [],
   "source": [
    "features = df.drop(['p-value'], axis=1)"
   ]
  },
  {
   "cell_type": "code",
   "execution_count": 11,
   "metadata": {
    "collapsed": false
   },
   "outputs": [
    {
     "data": {
      "text/plain": [
       "(418673, 10)"
      ]
     },
     "execution_count": 11,
     "metadata": {},
     "output_type": "execute_result"
    }
   ],
   "source": [
    "features.shape"
   ]
  },
  {
   "cell_type": "code",
   "execution_count": 12,
   "metadata": {
    "collapsed": false
   },
   "outputs": [
    {
     "data": {
      "text/plain": [
       "(418673, 11)"
      ]
     },
     "execution_count": 12,
     "metadata": {},
     "output_type": "execute_result"
    }
   ],
   "source": [
    "df.shape"
   ]
  },
  {
   "cell_type": "code",
   "execution_count": 26,
   "metadata": {
    "collapsed": true
   },
   "outputs": [],
   "source": [
    "y_float = df['p-value'].values.astype('float32')"
   ]
  },
  {
   "cell_type": "code",
   "execution_count": 27,
   "metadata": {
    "collapsed": false
   },
   "outputs": [
    {
     "data": {
      "text/plain": [
       "array([  1.04549898e-07,   4.33655022e-12,   1.13250197e-12, ...,\n",
       "         8.38231134e-12,   2.22520201e-12,   1.20410997e-08], dtype=float32)"
      ]
     },
     "execution_count": 27,
     "metadata": {},
     "output_type": "execute_result"
    }
   ],
   "source": [
    "y_float"
   ]
  },
  {
   "cell_type": "code",
   "execution_count": 28,
   "metadata": {
    "collapsed": true
   },
   "outputs": [],
   "source": [
    "y_label = y_float > 0.001"
   ]
  },
  {
   "cell_type": "code",
   "execution_count": 29,
   "metadata": {
    "collapsed": false
   },
   "outputs": [
    {
     "data": {
      "text/plain": [
       "array([False, False, False, ..., False, False, False], dtype=bool)"
      ]
     },
     "execution_count": 29,
     "metadata": {},
     "output_type": "execute_result"
    }
   ],
   "source": [
    "y_label"
   ]
  },
  {
   "cell_type": "code",
   "execution_count": 30,
   "metadata": {
    "collapsed": true
   },
   "outputs": [],
   "source": [
    "from matplotlib import pylab"
   ]
  },
  {
   "cell_type": "code",
   "execution_count": 31,
   "metadata": {
    "collapsed": false
   },
   "outputs": [
    {
     "data": {
      "image/png": "[encoded data removed]",
      "text/plain": [
       "<matplotlib.figure.Figure at 0x7f6cd7805990>"
      ]
     },
     "metadata": {},
     "output_type": "display_data"
    }
   ],
   "source": [
    "pylab.hist(y_label);"
   ]
  },
  {
   "cell_type": "code",
   "execution_count": 33,
   "metadata": {
    "collapsed": false
   },
   "outputs": [
    {
     "data": {
      "text/plain": [
       "(5114, 413559)"
      ]
     },
     "execution_count": 33,
     "metadata": {},
     "output_type": "execute_result"
    }
   ],
   "source": [
    "len(y_label[y_label>0.5]), len(y_label[y_label<=0.5]), "
   ]
  },
  {
   "cell_type": "code",
   "execution_count": 39,
   "metadata": {
    "collapsed": true
   },
   "outputs": [],
   "source": [
    "weights = 100*(y_label> 0.5) + 1"
   ]
  },
  {
   "cell_type": "code",
   "execution_count": 40,
   "metadata": {
    "collapsed": false
   },
   "outputs": [
    {
     "data": {
      "text/plain": [
       "(array([ 413559.,       0.,       0.,       0.,       0.,       0.,\n",
       "              0.,       0.,       0.,    5114.]),\n",
       " array([   1.,   11.,   21.,   31.,   41.,   51.,   61.,   71.,   81.,\n",
       "          91.,  101.]),\n",
       " <a list of 10 Patch objects>)"
      ]
     },
     "execution_count": 40,
     "metadata": {},
     "output_type": "execute_result"
    },
    {
     "data": {
      "image/png": "[encoded data removed]",
      "text/plain": [
       "<matplotlib.figure.Figure at 0x7f6cd775fd90>"
      ]
     },
     "metadata": {},
     "output_type": "display_data"
    }
   ],
   "source": [
    "pylab.hist(weights)"
   ]
  },
  {
   "cell_type": "code",
   "execution_count": 41,
   "metadata": {
    "collapsed": false
   },
   "outputs": [
    {
     "data": {
      "text/plain": [
       "(array([ 413559.,       0.,       0.,       0.,       0.,       0.,\n",
       "              0.,       0.,       0.,  516514.]),\n",
       " array([ 0. ,  0.1,  0.2,  0.3,  0.4,  0.5,  0.6,  0.7,  0.8,  0.9,  1. ]),\n",
       " <a list of 10 Patch objects>)"
      ]
     },
     "execution_count": 41,
     "metadata": {},
     "output_type": "execute_result"
    },
    {
     "data": {
      "image/png": "[encoded data removed]",
      "text/plain": [
       "<matplotlib.figure.Figure at 0x7f6cd7648790>"
      ]
     },
     "metadata": {},
     "output_type": "display_data"
    }
   ],
   "source": [
    "pylab.hist(y_label, weights=weights)"
   ]
  },
  {
   "cell_type": "code",
   "execution_count": 42,
   "metadata": {
    "collapsed": true
   },
   "outputs": [],
   "source": [
    "from sklearn.cross_validation import train_test_split\n"
   ]
  },
  {
   "cell_type": "code",
   "execution_count": 54,
   "metadata": {
    "collapsed": false
   },
   "outputs": [],
   "source": [
    "x_train, x_test, y_train, y_test = train_test_split(features, y_label, test_size=0.5)"
   ]
  },
  {
   "cell_type": "code",
   "execution_count": 55,
   "metadata": {
    "collapsed": false
   },
   "outputs": [
    {
     "data": {
      "text/plain": [
       "array([False, False, False, ..., False, False, False], dtype=bool)"
      ]
     },
     "execution_count": 55,
     "metadata": {},
     "output_type": "execute_result"
    }
   ],
   "source": [
    "y_label"
   ]
  },
  {
   "cell_type": "code",
   "execution_count": 56,
   "metadata": {
    "collapsed": true
   },
   "outputs": [],
   "source": [
    "import xgboost"
   ]
  },
  {
   "cell_type": "code",
   "execution_count": 57,
   "metadata": {
    "collapsed": true
   },
   "outputs": [],
   "source": [
    "weights_train = 100* (y_train>0.001) + 1"
   ]
  },
  {
   "cell_type": "code",
   "execution_count": 58,
   "metadata": {
    "collapsed": false
   },
   "outputs": [
    {
     "data": {
      "image/png": "[encoded data removed]",
      "text/plain": [
       "<matplotlib.figure.Figure at 0x7f6ca0f13110>"
      ]
     },
     "metadata": {},
     "output_type": "display_data"
    }
   ],
   "source": [
    "pylab.hist(y_train, weights=weights_train);"
   ]
  },
  {
   "cell_type": "code",
   "execution_count": 60,
   "metadata": {
    "collapsed": true
   },
   "outputs": [],
   "source": [
    "xgm = xgboost.XGBClassifier(max_depth=5)"
   ]
  },
  {
   "cell_type": "code",
   "execution_count": 63,
   "metadata": {
    "collapsed": false
   },
   "outputs": [
    {
     "data": {
      "text/html": [
       "<div>\n",
       "<table border=\"1\" class=\"dataframe\">\n",
       "  <thead>\n",
       "    <tr style=\"text-align: right;\">\n",
       "      <th></th>\n",
       "      <th>switching_parameter</th>\n",
       "      <th>rational_expectation_cost</th>\n",
       "      <th>risk_free_return</th>\n",
       "      <th>weight_past_profits</th>\n",
       "      <th>delta</th>\n",
       "      <th>alpha</th>\n",
       "      <th>bias_1</th>\n",
       "      <th>trend_1</th>\n",
       "      <th>bias_2</th>\n",
       "      <th>trend_2</th>\n",
       "    </tr>\n",
       "  </thead>\n",
       "  <tbody>\n",
       "    <tr>\n",
       "      <th>count</th>\n",
       "      <td>209336.000000</td>\n",
       "      <td>209336.000000</td>\n",
       "      <td>209336.000000</td>\n",
       "      <td>209336.000000</td>\n",
       "      <td>209336.000000</td>\n",
       "      <td>209336.000000</td>\n",
       "      <td>209336.000000</td>\n",
       "      <td>209336.000000</td>\n",
       "      <td>209336.000000</td>\n",
       "      <td>209336.000000</td>\n",
       "    </tr>\n",
       "    <tr>\n",
       "      <th>mean</th>\n",
       "      <td>6.241131</td>\n",
       "      <td>2.856723</td>\n",
       "      <td>1.054682</td>\n",
       "      <td>0.498061</td>\n",
       "      <td>0.521765</td>\n",
       "      <td>54.888452</td>\n",
       "      <td>1.396727</td>\n",
       "      <td>-0.215362</td>\n",
       "      <td>1.268372</td>\n",
       "      <td>0.173031</td>\n",
       "    </tr>\n",
       "    <tr>\n",
       "      <th>std</th>\n",
       "      <td>2.193524</td>\n",
       "      <td>1.602417</td>\n",
       "      <td>0.028729</td>\n",
       "      <td>0.290765</td>\n",
       "      <td>0.331533</td>\n",
       "      <td>27.501843</td>\n",
       "      <td>0.437212</td>\n",
       "      <td>0.704949</td>\n",
       "      <td>0.521471</td>\n",
       "      <td>0.443029</td>\n",
       "    </tr>\n",
       "    <tr>\n",
       "      <th>min</th>\n",
       "      <td>2.500000</td>\n",
       "      <td>0.000000</td>\n",
       "      <td>1.010000</td>\n",
       "      <td>0.000000</td>\n",
       "      <td>0.000000</td>\n",
       "      <td>1.000000</td>\n",
       "      <td>-1.100000</td>\n",
       "      <td>-2.000000</td>\n",
       "      <td>-0.600000</td>\n",
       "      <td>-2.000000</td>\n",
       "    </tr>\n",
       "    <tr>\n",
       "      <th>25%</th>\n",
       "      <td>4.300000</td>\n",
       "      <td>2.000000</td>\n",
       "      <td>1.030000</td>\n",
       "      <td>0.250000</td>\n",
       "      <td>0.210000</td>\n",
       "      <td>32.000000</td>\n",
       "      <td>1.100000</td>\n",
       "      <td>-0.600000</td>\n",
       "      <td>0.900000</td>\n",
       "      <td>-0.100000</td>\n",
       "    </tr>\n",
       "    <tr>\n",
       "      <th>50%</th>\n",
       "      <td>6.200000</td>\n",
       "      <td>3.000000</td>\n",
       "      <td>1.050000</td>\n",
       "      <td>0.500000</td>\n",
       "      <td>0.520000</td>\n",
       "      <td>56.000000</td>\n",
       "      <td>1.400000</td>\n",
       "      <td>-0.200000</td>\n",
       "      <td>1.300000</td>\n",
       "      <td>0.100000</td>\n",
       "    </tr>\n",
       "    <tr>\n",
       "      <th>75%</th>\n",
       "      <td>8.100000</td>\n",
       "      <td>4.000000</td>\n",
       "      <td>1.080000</td>\n",
       "      <td>0.750000</td>\n",
       "      <td>0.840000</td>\n",
       "      <td>79.000000</td>\n",
       "      <td>1.700000</td>\n",
       "      <td>0.200000</td>\n",
       "      <td>1.700000</td>\n",
       "      <td>0.400000</td>\n",
       "    </tr>\n",
       "    <tr>\n",
       "      <th>max</th>\n",
       "      <td>10.000000</td>\n",
       "      <td>5.000000</td>\n",
       "      <td>1.100000</td>\n",
       "      <td>1.000000</td>\n",
       "      <td>1.000000</td>\n",
       "      <td>100.000000</td>\n",
       "      <td>2.000000</td>\n",
       "      <td>2.000000</td>\n",
       "      <td>2.000000</td>\n",
       "      <td>2.000000</td>\n",
       "    </tr>\n",
       "  </tbody>\n",
       "</table>\n",
       "</div>"
      ],
      "text/plain": [
       "       switching_parameter  rational_expectation_cost  risk_free_return  \\\n",
       "count        209336.000000              209336.000000     209336.000000   \n",
       "mean              6.241131                   2.856723          1.054682   \n",
       "std               2.193524                   1.602417          0.028729   \n",
       "min               2.500000                   0.000000          1.010000   \n",
       "25%               4.300000                   2.000000          1.030000   \n",
       "50%               6.200000                   3.000000          1.050000   \n",
       "75%               8.100000                   4.000000          1.080000   \n",
       "max              10.000000                   5.000000          1.100000   \n",
       "\n",
       "       weight_past_profits          delta          alpha         bias_1  \\\n",
       "count        209336.000000  209336.000000  209336.000000  209336.000000   \n",
       "mean              0.498061       0.521765      54.888452       1.396727   \n",
       "std               0.290765       0.331533      27.501843       0.437212   \n",
       "min               0.000000       0.000000       1.000000      -1.100000   \n",
       "25%               0.250000       0.210000      32.000000       1.100000   \n",
       "50%               0.500000       0.520000      56.000000       1.400000   \n",
       "75%               0.750000       0.840000      79.000000       1.700000   \n",
       "max               1.000000       1.000000     100.000000       2.000000   \n",
       "\n",
       "             trend_1         bias_2        trend_2  \n",
       "count  209336.000000  209336.000000  209336.000000  \n",
       "mean       -0.215362       1.268372       0.173031  \n",
       "std         0.704949       0.521471       0.443029  \n",
       "min        -2.000000      -0.600000      -2.000000  \n",
       "25%        -0.600000       0.900000      -0.100000  \n",
       "50%        -0.200000       1.300000       0.100000  \n",
       "75%         0.200000       1.700000       0.400000  \n",
       "max         2.000000       2.000000       2.000000  "
      ]
     },
     "execution_count": 63,
     "metadata": {},
     "output_type": "execute_result"
    }
   ],
   "source": [
    "x_train.describe()"
   ]
  },
  {
   "cell_type": "code",
   "execution_count": 64,
   "metadata": {
    "collapsed": false
   },
   "outputs": [
    {
     "data": {
      "text/plain": [
       "array([[ 5.3 ,  2.  ,  1.04, ..., -0.9 ,  0.4 ,  0.7 ],\n",
       "       [ 6.3 ,  3.  ,  1.09, ..., -1.9 ,  1.8 ,  1.9 ],\n",
       "       [ 5.1 ,  5.  ,  1.1 , ...,  1.1 ,  1.  ,  0.2 ],\n",
       "       ..., \n",
       "       [ 5.7 ,  2.  ,  1.09, ..., -0.6 ,  0.2 ,  0.8 ],\n",
       "       [ 8.9 ,  1.  ,  1.09, ..., -0.8 ,  0.5 ,  0.5 ],\n",
       "       [ 2.5 ,  2.  ,  1.02, ...,  0.6 ,  0.6 ,  0.4 ]])"
      ]
     },
     "execution_count": 64,
     "metadata": {},
     "output_type": "execute_result"
    }
   ],
   "source": [
    "x_train.values"
   ]
  },
  {
   "cell_type": "code",
   "execution_count": 76,
   "metadata": {
    "collapsed": false
   },
   "outputs": [
    {
     "data": {
      "text/plain": [
       "XGBClassifier(base_score=0.5, colsample_bytree=1, gamma=0, learning_rate=0.1,\n",
       "       max_delta_step=0, max_depth=5, min_child_weight=1, missing=None,\n",
       "       n_estimators=100, nthread=-1, objective='binary:logistic', seed=0,\n",
       "       silent=True, subsample=1)"
      ]
     },
     "execution_count": 76,
     "metadata": {},
     "output_type": "execute_result"
    }
   ],
   "source": [
    "xgm.fit(x_train.values, y_train, sample_weight=weights_train)"
   ]
  },
  {
   "cell_type": "code",
   "execution_count": null,
   "metadata": {
    "collapsed": true
   },
   "outputs": [],
   "source": []
  },
  {
   "cell_type": "code",
   "execution_count": 77,
   "metadata": {
    "collapsed": true
   },
   "outputs": [],
   "source": [
    "from sklearn.metrics import f1_score\n",
    "\n",
    "def score(y_test, y_pred, p_threshold=0.001):\n",
    "    return f1_score(y_test > p_threshold, y_pred > p_threshold)"
   ]
  },
  {
   "cell_type": "code",
   "execution_count": 78,
   "metadata": {
    "collapsed": false
   },
   "outputs": [],
   "source": [
    "y_pred = xgm.predict_proba(x_test.values)[:, 1]"
   ]
  },
  {
   "cell_type": "code",
   "execution_count": 79,
   "metadata": {
    "collapsed": false
   },
   "outputs": [
    {
     "data": {
      "text/plain": [
       "0.051743196008723444"
      ]
     },
     "execution_count": 79,
     "metadata": {},
     "output_type": "execute_result"
    }
   ],
   "source": [
    "score(y_pred, y_test)"
   ]
  },
  {
   "cell_type": "code",
   "execution_count": 70,
   "metadata": {
    "collapsed": true
   },
   "outputs": [],
   "source": [
    "y_pred_train = xgm.predict_proba(x_train.values)[:, 1]"
   ]
  },
  {
   "cell_type": "code",
   "execution_count": 71,
   "metadata": {
    "collapsed": false
   },
   "outputs": [
    {
     "data": {
      "text/plain": [
       "0.10073557412863528"
      ]
     },
     "execution_count": 71,
     "metadata": {},
     "output_type": "execute_result"
    }
   ],
   "source": [
    "score(y_pred_train, y_train)"
   ]
  },
  {
   "cell_type": "code",
   "execution_count": 72,
   "metadata": {
    "collapsed": true
   },
   "outputs": [],
   "source": [
    "from sklearn.ensemble import RandomForestClassifier\n",
    "\n",
    "clf = RandomForestClassifier(n_estimators=50, max_leaf_nodes=200)"
   ]
  },
  {
   "cell_type": "code",
   "execution_count": 73,
   "metadata": {
    "collapsed": false
   },
   "outputs": [
    {
     "data": {
      "text/plain": [
       "RandomForestClassifier(bootstrap=True, class_weight=None, criterion='gini',\n",
       "            max_depth=None, max_features='auto', max_leaf_nodes=200,\n",
       "            min_samples_leaf=1, min_samples_split=2,\n",
       "            min_weight_fraction_leaf=0.0, n_estimators=50, n_jobs=1,\n",
       "            oob_score=False, random_state=None, verbose=0,\n",
       "            warm_start=False)"
      ]
     },
     "execution_count": 73,
     "metadata": {},
     "output_type": "execute_result"
    }
   ],
   "source": [
    "clf.fit(x_train.values, y_train, )"
   ]
  },
  {
   "cell_type": "code",
   "execution_count": 74,
   "metadata": {
    "collapsed": true
   },
   "outputs": [],
   "source": [
    "y_pred = clf.predict_proba(x_test.values)[:, 1]"
   ]
  },
  {
   "cell_type": "code",
   "execution_count": 75,
   "metadata": {
    "collapsed": false
   },
   "outputs": [
    {
     "data": {
      "text/plain": [
       "0.024535593124371861"
      ]
     },
     "execution_count": 75,
     "metadata": {},
     "output_type": "execute_result"
    }
   ],
   "source": [
    "score(y_pred, y_test)"
   ]
  },
  {
   "cell_type": "code",
   "execution_count": 111,
   "metadata": {
    "collapsed": true
   },
   "outputs": [],
   "source": [
    "from sklearn.metrics import recall_score, precision_score\n",
    "\n",
    "def scan_thresholds(y_test, y_pred):\n",
    "    thresholds = numpy.arange(0.0, 1.0, 0.01)\n",
    "    recall_scores = [recall_score(y_test, y_pred > threshold) for threshold in thresholds]\n",
    "    precision_scores = [precision_score(y_test, y_pred > threshold) for threshold in thresholds]\n",
    "    f1_scores = [score(y_test, y_pred > threshold) for threshold in thresholds]\n",
    "    \n",
    "\n",
    "    pylab.plot(thresholds, recall_scores)\n",
    "    pylab.plot(thresholds, precision_scores)\n",
    "    pylab.plot(thresholds, f1_scores);\n",
    "    pylab.legend([\"recall\", \"precision\", \"f1\"])\n",
    "    i = numpy.argmax(f1_scores)\n",
    "    print thresholds[i]\n",
    "    "
   ]
  },
  {
   "cell_type": "code",
   "execution_count": 113,
   "metadata": {
    "collapsed": false
   },
   "outputs": [
    {
     "name": "stdout",
     "output_type": "stream",
     "text": [
      "0.96\n"
     ]
    },
    {
     "data": {
      "image/png": "[encoded data removed]",
      "text/plain": [
       "<matplotlib.figure.Figure at 0x7f6ca2701a90>"
      ]
     },
     "metadata": {},
     "output_type": "display_data"
    }
   ],
   "source": [
    "scan_thresholds(y_test, y_pred)"
   ]
  },
  {
   "cell_type": "code",
   "execution_count": 114,
   "metadata": {
    "collapsed": false
   },
   "outputs": [
    {
     "data": {
      "text/plain": [
       "0.61879762912785774"
      ]
     },
     "execution_count": 114,
     "metadata": {},
     "output_type": "execute_result"
    }
   ],
   "source": [
    "score(y_test, y_pred > 0.96)"
   ]
  },
  {
   "cell_type": "code",
   "execution_count": null,
   "metadata": {
    "collapsed": true
   },
   "outputs": [],
   "source": []
  }
 ],
 "metadata": {
  "kernelspec": {
   "display_name": "Python 2",
   "language": "python",
   "name": "python2"
  },
  "language_info": {
   "codemirror_mode": {
    "name": "ipython",
    "version": 2
   },
   "file_extension": ".py",
   "mimetype": "text/x-python",
   "name": "python",
   "nbconvert_exporter": "python",
   "pygments_lexer": "ipython2",
   "version": "2.7.10"
  }
 },
 "nbformat": 4,
 "nbformat_minor": 0
}
